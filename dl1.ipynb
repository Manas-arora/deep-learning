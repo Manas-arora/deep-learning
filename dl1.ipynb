{
  "nbformat": 4,
  "nbformat_minor": 0,
  "metadata": {
    "colab": {
      "provenance": [],
      "gpuType": "T4",
      "authorship_tag": "ABX9TyMWkDyPhKMdhhz7GbDvUH91",
      "include_colab_link": true
    },
    "kernelspec": {
      "name": "python3",
      "display_name": "Python 3"
    },
    "language_info": {
      "name": "python"
    },
    "accelerator": "GPU"
  },
  "cells": [
    {
      "cell_type": "markdown",
      "metadata": {
        "id": "view-in-github",
        "colab_type": "text"
      },
      "source": [
        "<a href=\"https://colab.research.google.com/github/Manas-arora/deep-learning/blob/main/dl1.ipynb\" target=\"_parent\"><img src=\"https://colab.research.google.com/assets/colab-badge.svg\" alt=\"Open In Colab\"/></a>"
      ]
    },
    {
      "cell_type": "code",
      "execution_count": 20,
      "metadata": {
        "id": "Ub6aE00LCd4z"
      },
      "outputs": [],
      "source": [
        "from os import lseek\n",
        "import pandas as pd\n",
        "data=pd.read_csv('/content/drive/MyDrive/electronic-card-transactions-june-2024-csv-tables.xlsx.csv')\n",
        "\n",
        "\n",
        "\n",
        "\n",
        "\n"
      ]
    },
    {
      "cell_type": "code",
      "source": [
        "print(data.describe())\n"
      ],
      "metadata": {
        "colab": {
          "base_uri": "https://localhost:8080/"
        },
        "id": "THBk8on-K2HV",
        "outputId": "8e6f5154-16f7-44ac-fc66-f1a1e82d6014"
      },
      "execution_count": 21,
      "outputs": [
        {
          "output_type": "stream",
          "name": "stdout",
          "text": [
            "             Period    Data_value  Suppressed     Magnitude  Series_title_4  \\\n",
            "count  20581.000000  1.946000e+04         0.0  20581.000000             0.0   \n",
            "mean    2012.511999  1.615536e+07         NaN      4.216705             NaN   \n",
            "std        6.698534  8.982204e+07         NaN      2.742261             NaN   \n",
            "min     2000.010000 -5.130000e+01         NaN      0.000000             NaN   \n",
            "25%     2007.030000  2.018750e+02         NaN      0.000000             NaN   \n",
            "50%     2012.120000  1.273050e+03         NaN      6.000000             NaN   \n",
            "75%     2018.090000  4.624625e+03         NaN      6.000000             NaN   \n",
            "max     2024.060000  1.982349e+09         NaN      6.000000             NaN   \n",
            "\n",
            "       Series_title_5  \n",
            "count             0.0  \n",
            "mean              NaN  \n",
            "std               NaN  \n",
            "min               NaN  \n",
            "25%               NaN  \n",
            "50%               NaN  \n",
            "75%               NaN  \n",
            "max               NaN  \n"
          ]
        }
      ]
    },
    {
      "cell_type": "code",
      "source": [],
      "metadata": {
        "id": "ZfBVRd7vLLI1"
      },
      "execution_count": null,
      "outputs": []
    }
  ]
}